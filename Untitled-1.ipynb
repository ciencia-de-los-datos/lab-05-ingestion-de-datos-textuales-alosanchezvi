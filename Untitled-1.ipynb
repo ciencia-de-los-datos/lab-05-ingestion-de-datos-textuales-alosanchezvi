{
 "cells": [
  {
   "cell_type": "code",
   "execution_count": 47,
   "metadata": {},
   "outputs": [],
   "source": [
    "import os\n",
    "import zipfile\n",
    "import pandas as pd\n",
    "from os import scandir, getcwd\n"
   ]
  },
  {
   "cell_type": "code",
   "execution_count": 96,
   "metadata": {},
   "outputs": [],
   "source": [
    "import os\n",
    "import glob\n",
    "\n",
    "def obtener_estructura_con_rutas(input_directory):\n",
    "    estructura = {}\n",
    "    for elemento in os.listdir(input_directory):\n",
    "        ruta_elemento = os.path.join(input_directory, elemento)\n",
    "        if os.path.isdir(ruta_elemento):\n",
    "            estructura[elemento] = obtener_estructura_con_rutas(ruta_elemento)\n",
    "        else:\n",
    "            estructura[elemento] = ruta_elemento\n",
    "    return estructura\n",
    "\n",
    "# Modificar la estructura para que incluya las rutas de los archivos .txt\n",
    "estructura_directorios_txt_con_rutas = obtener_estructura_con_rutas(directorio_inicial)"
   ]
  },
  {
   "cell_type": "code",
   "execution_count": 133,
   "metadata": {},
   "outputs": [],
   "source": [
    "def etl(valor,i):\n",
    "    keys_segundarias = list(estructura_directorios_txt_con_rutas[valor].keys())\n",
    "\n",
    "    archivos_txt_completos = list(estructura_directorios_txt_con_rutas[valor][keys_segundarias[i]].values())\n",
    "\n",
    "    # Lista para almacenar los DataFrames de cada archivo\n",
    "    dataframes = []\n",
    "\n",
    "    # Leer cada archivo y cargarlo en un DataFrame\n",
    "    for archivo_completo in archivos_txt_completos[1:]:\n",
    "        df = pd.read_csv(archivo_completo, sep='\\t', header=None)  # Puedes ajustar los parámetros según el formato de tus archivos\n",
    "        dataframes.append(df)\n",
    "\n",
    "    # Concatenar todos los DataFrames en uno solo\n",
    "    dataframe_concatenado = pd.concat(dataframes, ignore_index=True)\n",
    "    dataframe_concatenado.columns= ['phrase']\n",
    "    dataframe_concatenado['target'] = keys_segundarias[i]\n",
    "    return dataframe_concatenado"
   ]
  },
  {
   "cell_type": "code",
   "execution_count": 140,
   "metadata": {},
   "outputs": [],
   "source": [
    "tabla = [] \n",
    "for i in range(1,4):\n",
    "    tabla.append(etl('train',i))\n",
    "pd.concat(tabla, ignore_index=True).to_csv('train_dataset.csv')"
   ]
  },
  {
   "cell_type": "code",
   "execution_count": 141,
   "metadata": {},
   "outputs": [],
   "source": [
    "tabla = [] \n",
    "for i in range(1,4):\n",
    "    tabla.append(etl('test',i))\n",
    "pd.concat(tabla, ignore_index=True).to_csv('test_dataset.csv')"
   ]
  }
 ],
 "metadata": {
  "kernelspec": {
   "display_name": "base",
   "language": "python",
   "name": "python3"
  },
  "language_info": {
   "name": "python",
   "version": "3.9.13"
  }
 },
 "nbformat": 4,
 "nbformat_minor": 2
}
